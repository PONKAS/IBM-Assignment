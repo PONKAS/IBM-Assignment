{
 "cells": [
  {
   "cell_type": "markdown",
   "id": "152160d8-a6af-42a4-8054-a1ff293f07c3",
   "metadata": {},
   "source": [
    "# Data Science Tools and Ecosystem"
   ]
  },
  {
   "cell_type": "markdown",
   "id": "111aeb30-96c0-4a55-9de5-bf87be0c6888",
   "metadata": {},
   "source": [
    "## Author : \n",
    "Mbongeni Sithole"
   ]
  },
  {
   "cell_type": "markdown",
   "id": "724af645-3284-4e10-a593-242f9a1d4579",
   "metadata": {},
   "source": [
    "In this notebook, Data Science Tools and Ecosystem are summarized."
   ]
  },
  {
   "cell_type": "markdown",
   "id": "0ab655ed-fd98-461f-bbea-cf5079297b6a",
   "metadata": {},
   "source": [
    "**Objectives**\n",
    "* Popular Data science tools will be listed\n",
    "* List Commonly used Libraries by Data Scientists\n",
    "* Table of Data Science Tools\n",
    "* Basic Arithmetic expressions\n"
   ]
  },
  {
   "cell_type": "markdown",
   "id": "8e8a3640-019c-4cbd-b730-ef01d6830901",
   "metadata": {},
   "source": [
    "Some of the popular languages that Data Scientists use are:\n",
    "1. Python\n",
    "2. R\n",
    "3. SQL\n",
    "4. Julia"
   ]
  },
  {
   "cell_type": "markdown",
   "id": "d5c43c72-d3bf-42a3-8669-567af1579d99",
   "metadata": {},
   "source": [
    "Some of the commonly used libraries used by Data Scientists include:\n",
    "1. NumPy\n",
    "2. Pandas\n",
    "3. Matplotlib\n",
    "4. Seaborn\n",
    "5. Sci-kit Learn\n",
    "6. XG-Boost"
   ]
  },
  {
   "cell_type": "markdown",
   "id": "d91a8457-d296-43de-8c37-937602eba736",
   "metadata": {},
   "source": [
    "|Data Science Tools|\n",
    "|---|\n",
    "|Jupyter Notebook|\n",
    "|RStudio|\n",
    "|IBM Watson|\n",
    "|Apache SQL|\n",
    "|Power BI|"
   ]
  },
  {
   "cell_type": "markdown",
   "id": "31b187ef-12b8-4410-b31b-056a67d01f05",
   "metadata": {},
   "source": [
    "### Below are a few examples of evaluating arithmetic expressions in Python\n"
   ]
  },
  {
   "cell_type": "code",
   "execution_count": 2,
   "id": "a137a7d2-1953-422f-b967-6edc5ef62242",
   "metadata": {},
   "outputs": [
    {
     "data": {
      "text/plain": [
       "17"
      ]
     },
     "execution_count": 2,
     "metadata": {},
     "output_type": "execute_result"
    }
   ],
   "source": [
    "(3*4)+5 #This a simple arithmetic expression to mutiply then add integers"
   ]
  },
  {
   "cell_type": "code",
   "execution_count": 4,
   "id": "47fe9732-1d2e-45ab-8388-ae7a0fbaa046",
   "metadata": {},
   "outputs": [
    {
     "data": {
      "text/plain": [
       "3.3333333333333335"
      ]
     },
     "execution_count": 4,
     "metadata": {},
     "output_type": "execute_result"
    }
   ],
   "source": [
    "# This will convert 200 minutes to hours by diving by 60\n",
    "200/60"
   ]
  },
  {
   "cell_type": "code",
   "execution_count": null,
   "id": "297e3e9e-38a0-4b90-9988-9a6f37077811",
   "metadata": {},
   "outputs": [],
   "source": []
  }
 ],
 "metadata": {
  "kernelspec": {
   "display_name": "Python",
   "language": "python",
   "name": "conda-env-python-py"
  },
  "language_info": {
   "codemirror_mode": {
    "name": "ipython",
    "version": 3
   },
   "file_extension": ".py",
   "mimetype": "text/x-python",
   "name": "python",
   "nbconvert_exporter": "python",
   "pygments_lexer": "ipython3",
   "version": "3.7.12"
  }
 },
 "nbformat": 4,
 "nbformat_minor": 5
}
